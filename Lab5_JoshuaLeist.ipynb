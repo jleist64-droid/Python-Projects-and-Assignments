{
 "cells": [
  {
   "cell_type": "markdown",
   "id": "e6bb51c8",
   "metadata": {},
   "source": [
    "# Lab 5: Dictionaries \n",
    "\n",
    "In this lab you will practice the use of dictionaries. Do the following tasks. \n",
    "\n",
    "**Problem 1: Reading a file of data**\n",
    "In the module there is a file named \"Birth_Life.txt\". You will need to download this file and put it into the same working directory you have decided to save this lab file to for easy access to the file. You should open this file and review its contents but make no changes to the file. You should see it is information about a selection of countries. Specifically, Country Name is a column that contains the country's name, followed by Life_Exp this is the average life time in years for that country, followed by Birth_Rate this is the average birthrate for that country per 1000 people in a year. \n",
    "\n",
    "1. Using the open(\"filename\", \"r\") function read the file and store the output into a variable named f_obj (file object). \n",
    "2. now use the file_object.read() function to read all of the information, and store it in alldata variable. The .read() function will essentially read all of the data into a single line of information. \n",
    "3. Split the data using alldata.split(\"\\n\") this will split the data list based on the new line marker locations, which is at the end of each line of information in the original text. You should store the output of this into a new variable called alldata_split. \n",
    "4. This is where my help ends and the task really begins. Explore the current output that you have stored into alldata_split variable from point 3. Using a for loop, range, and split, create a list of lists, where all the data from one line is put into a list. the desired output should look like this for the first two lines: \n",
    "[['Country', 'Name', 'Life_Exp', 'Birth_Rate', 'GNI', 'Development'],\n",
    " ['\"Congo,', 'Dem.', 'Rep.\"', '50.00', '45.96', '130', 'Developing'],...]\n",
    " \n",
    "This list of lists should be named data_list. Print the output of the code meaning, print the data_list variable on to the console. \n",
    "\n",
    "5. The last thing close the file object, run this line of code at the end `f_obj.close()`."
   ]
  },
  {
   "cell_type": "code",
   "execution_count": 29,
   "id": "5656ccc1",
   "metadata": {},
   "outputs": [
    {
     "name": "stdout",
     "output_type": "stream",
     "text": [
      "[['Country_Name', 'Life_Exp', 'Birth_Rate', 'GNI', 'Development'], ['Congo_Dem_Rep', '50.00', '45.96', '130', 'Developing'], ['India', '62.59', '26.46', '440', 'Developing'], ['South_Africa', '56.37', '24.33', '3070', 'Developing'], ['China', '72.00', '14.03', '940', 'Developing'], ['Pakistan', '62.76', '32.04', '490', 'Developing'], ['Mexico', '74.30', '24.13', '5810', 'Developing'], ['United_States', '76.64', '14.40', '36070', 'Developed'], ['Germany', '77.93', '9.30', '26210', 'Developed'], ['Switzerland', '79.68', '10.90', '43460', 'Developed'], ['Japan', '81.08', '9.40', '36230', 'Developed']]\n"
     ]
    }
   ],
   "source": [
    "f_obj = open(\"Birth_Life.txt\", \"r\")\n",
    "\n",
    "alldata = f_obj.read()\n",
    "alldata_split = alldata.split(\"\\n\")\n",
    "\n",
    "data_list = []\n",
    "\n",
    "for line in alldata_split:\n",
    "    split_line = line.split(\"\\t\")\n",
    "    \n",
    "    data_list.append(split_line)\n",
    "\n",
    "print(data_list)\n",
    "\n",
    "f_obj.close()"
   ]
  },
  {
   "cell_type": "markdown",
   "id": "9108cef1",
   "metadata": {},
   "source": [
    "**Problem 2: Making a Dictionary**\n",
    "In this part of the assignment the goal is now to take the list of lists or the data_list variable contents and begin to construct a dictionary. For example, first row of the data_list is the keys for each value. For example for the Japan or last line of the file. The dictionary should be {'Country_Name':'Japan','Life_Exp':81.08 and so on. This will require that numerical data be converted from text into actual data. The goal here is use all that you have learned to create the dictionary. Hint, the easiest way to to this is two create a dictionary from two list. \n",
    "The desired output should look like: \n",
    "\n",
    "```\n",
    "{'Country_1': {'Country_Name': 'Congo_Dem_Rep',\n",
    "  'Life_Exp': 50.0,\n",
    "  'Birth_Rate': 45.96,\n",
    "  'GNI': 130.0,\n",
    "  'Development': 'Developing'},\n",
    " 'Country_2': {'Country_Name': 'India',\n",
    "  'Life_Exp': 62.59,\n",
    "  'Birth_Rate': 26.46,\n",
    "  'GNI': 440.0,\n",
    "  'Development': 'Developing'},...\n",
    " ```\n",
    " You must generate a name, thus you are creating a dictionary of dictionaries. This should use one for loop. Lastly, print the dictionary as the final task for this problem. \n",
    " \n",
    "*Hint: This may require that you stop and reload the file multiple times as you work through the code, you may change the structure of the data_list and you may need to refresh it by reading in the file again.* "
   ]
  },
  {
   "cell_type": "code",
   "execution_count": 98,
   "id": "5db812ba",
   "metadata": {},
   "outputs": [
    {
     "name": "stdout",
     "output_type": "stream",
     "text": [
      "{\n",
      "  Country_1: {\n",
      "'Country_Name': Congo_Dem_Rep,\n",
      "'Life_Exp': 50.0,\n",
      "'Birth_Rate': 45.96,\n",
      "'GNI': 130.0,\n",
      "'Development': Developing,\n",
      "  },\n",
      "  Country_2: {\n",
      "'Country_Name': India,\n",
      "'Life_Exp': 62.59,\n",
      "'Birth_Rate': 26.46,\n",
      "'GNI': 440.0,\n",
      "'Development': Developing,\n",
      "  },\n",
      "  Country_3: {\n",
      "'Country_Name': South_Africa,\n",
      "'Life_Exp': 56.37,\n",
      "'Birth_Rate': 24.33,\n",
      "'GNI': 3070.0,\n",
      "'Development': Developing,\n",
      "  },\n",
      "  Country_4: {\n",
      "'Country_Name': China,\n",
      "'Life_Exp': 72.0,\n",
      "'Birth_Rate': 14.03,\n",
      "'GNI': 940.0,\n",
      "'Development': Developing,\n",
      "  },\n",
      "  Country_5: {\n",
      "'Country_Name': Pakistan,\n",
      "'Life_Exp': 62.76,\n",
      "'Birth_Rate': 32.04,\n",
      "'GNI': 490.0,\n",
      "'Development': Developing,\n",
      "  },\n",
      "  Country_6: {\n",
      "'Country_Name': Mexico,\n",
      "'Life_Exp': 74.3,\n",
      "'Birth_Rate': 24.13,\n",
      "'GNI': 5810.0,\n",
      "'Development': Developing,\n",
      "  },\n",
      "  Country_7: {\n",
      "'Country_Name': United_States,\n",
      "'Life_Exp': 76.64,\n",
      "'Birth_Rate': 14.4,\n",
      "'GNI': 36070.0,\n",
      "'Development': Developed,\n",
      "  },\n",
      "  Country_8: {\n",
      "'Country_Name': Germany,\n",
      "'Life_Exp': 77.93,\n",
      "'Birth_Rate': 9.3,\n",
      "'GNI': 26210.0,\n",
      "'Development': Developed,\n",
      "  },\n",
      "  Country_9: {\n",
      "'Country_Name': Switzerland,\n",
      "'Life_Exp': 79.68,\n",
      "'Birth_Rate': 10.9,\n",
      "'GNI': 43460.0,\n",
      "'Development': Developed,\n",
      "  },\n",
      "  Country_10: {\n",
      "'Country_Name': Japan,\n",
      "'Life_Exp': 81.08,\n",
      "'Birth_Rate': 9.4,\n",
      "'GNI': 36230.0,\n",
      "'Development': Developed,\n",
      "  },\n"
     ]
    }
   ],
   "source": [
    "filename = 'Birth_Life.txt'\n",
    "\n",
    "file = open(filename, 'r')\n",
    "\n",
    "data_list = [line.strip().split('\\t') for line in file.readlines()]\n",
    "\n",
    "file.close()\n",
    "\n",
    "headers = data_list[0]\n",
    "country_data = {\n",
    "    f'Country_{i}': {\n",
    "        'Country_Name': row[0],\n",
    "        'Life_Exp': float(row[1]),\n",
    "        'Birth_Rate': float(row[2]),\n",
    "        'GNI': float(row[3]),\n",
    "        'Development': row[4]\n",
    "    }\n",
    "    for i, row in enumerate(data_list[1:], start=1)\n",
    "}\n",
    "\n",
    "print(\"{\")\n",
    "for country, data in country_data.items():\n",
    "    print(f\"  {country}: {{\")\n",
    "    for key, value in data.items():\n",
    "        print(f\"'{key}': {value},\")\n",
    "    print(\"  },\")"
   ]
  },
  {
   "cell_type": "markdown",
   "id": "2ddd36f9",
   "metadata": {},
   "source": [
    "**Problem 3: Knowledge is Power**\n",
    "Hopefully by now you are seeing that your skills are growing. As such, now its time to pierce into the data to see what can be found. Write a interactive code that is capable of going through the dictionary you have built in the previous problem to provide a user with the result of the following options. Thus you must create the interactive code to present and obtain the choice of the user. Then you must use conditionals, prints, and computations to provide the result for each one. \n",
    "\n",
    "*HINT & ADVISE: It is advisable that you work on code for each part separate, test and assure it works. Then work on the combination all the code. I advise that you do not start with the input part first as then as you are trying to develop the code it will prompt you for an input. Do the code for each of the options first, then the main input. *\n",
    "\n",
    "1. Would you like to know the data for a particular country? \n",
    "2. Would you like to know which contries are considered developing?\n",
    "3. Would you like the average Birth_Rate, Life_Expectancy, and GNI for all developing countries? \n",
    "4. Would you like the average Birth_Rate, Life_Expectancy, and GNI for all developed countries? \n",
    "5. Would you like to know which contries are considered developed? \n",
    "6. Would you like the average Birth_Rate, Life_Expectancy, and GNI for all 10 countries?\n",
    "\n",
    "For 1. You will prompt the user for which county. Thus, you should print a numbered list of the country names to choose from. You can take the country name or a number choice for an input, which is up to you to decide. Then use this input to print out the key and value pairs for the country chosen. Desired output:\n",
    "```\n",
    "Country_Name ---> Pakistan\n",
    "Life_Exp ---> 62.76\n",
    "Birth_Rate ---> 32.04\n",
    "GNI ---> 490.0\n",
    "Development ---> Developing\n",
    "```\n",
    "For 2. You should simply print out the countries that have \"Developing\" under the \"Development\" key in each country. The desired input should look like: \n",
    "```\n",
    "The following countries are developing: \n",
    "Congo_Dem_Rep\n",
    "India\n",
    "South_Africa\n",
    "China\n",
    "Pakistan\n",
    "Mexico\n",
    "```\n",
    "For 3. and 4. could be done in a single code segment/module where a choice of 3 or 4 is evaluated and will compute the average for developing and not developing at the same time, but you should assure the code fully tested for both cases. Desired output should look like:\n",
    "```\n",
    "The averages of developing countries are:\n",
    "Average GNI ---> 1813.33\n",
    "Average Birth Rate ---> 27.82\n",
    "Average Life Expectancy ---> 63.0\n",
    "```\n",
    "For 5. should be the opposite of 2. and the output should look the same but for contries considered developed. \n",
    "\n",
    "For 6. the output should be similar to the one in 3 or 4 but should have values that correspond to the averages computed across all 10 countries. \n",
    "\n"
   ]
  },
  {
   "cell_type": "code",
   "execution_count": 6,
   "id": "22d16c01-dab5-47a0-a478-35170ed519c5",
   "metadata": {},
   "outputs": [
    {
     "name": "stdout",
     "output_type": "stream",
     "text": [
      "\n",
      "1. Get country data\n",
      "2. List developing countries\n",
      "3. Average for developing countries\n",
      "4. Average for developed countries\n",
      "5. List developed countries\n",
      "6. Average for all countries\n",
      "7. Exit\n"
     ]
    },
    {
     "name": "stdin",
     "output_type": "stream",
     "text": [
      "Enter your choice:  asdf\n"
     ]
    },
    {
     "name": "stdout",
     "output_type": "stream",
     "text": [
      "Invalid choice.\n",
      "\n",
      "1. Get country data\n",
      "2. List developing countries\n",
      "3. Average for developing countries\n",
      "4. Average for developed countries\n",
      "5. List developed countries\n",
      "6. Average for all countries\n",
      "7. Exit\n"
     ]
    },
    {
     "name": "stdin",
     "output_type": "stream",
     "text": [
      "Enter your choice:  \n"
     ]
    },
    {
     "name": "stdout",
     "output_type": "stream",
     "text": [
      "Invalid choice.\n",
      "\n",
      "1. Get country data\n",
      "2. List developing countries\n",
      "3. Average for developing countries\n",
      "4. Average for developed countries\n",
      "5. List developed countries\n",
      "6. Average for all countries\n",
      "7. Exit\n"
     ]
    },
    {
     "name": "stdin",
     "output_type": "stream",
     "text": [
      "Enter your choice:  1\n"
     ]
    },
    {
     "name": "stdout",
     "output_type": "stream",
     "text": [
      "1. Congo_Dem_Rep\n",
      "2. India\n",
      "3. South_Africa\n",
      "4. China\n",
      "5. Pakistan\n",
      "6. Mexico\n",
      "7. United_States\n",
      "8. Germany\n",
      "9. Switzerland\n",
      "10. Japan\n"
     ]
    },
    {
     "name": "stdin",
     "output_type": "stream",
     "text": [
      "Select a country by number:  7\n"
     ]
    },
    {
     "name": "stdout",
     "output_type": "stream",
     "text": [
      "\n",
      "Country: United_States\n",
      "Life Exp: 76.64\n",
      "Birth Rate: 14.4\n",
      "GNI: 36070.0\n",
      "Development: Developed\n",
      "\n",
      "1. Get country data\n",
      "2. List developing countries\n",
      "3. Average for developing countries\n",
      "4. Average for developed countries\n",
      "5. List developed countries\n",
      "6. Average for all countries\n",
      "7. Exit\n"
     ]
    },
    {
     "name": "stdin",
     "output_type": "stream",
     "text": [
      "Enter your choice:  7\n"
     ]
    },
    {
     "name": "stdout",
     "output_type": "stream",
     "text": [
      "Exiting.\n"
     ]
    }
   ],
   "source": [
    "filename = 'Birth_Life.txt'\n",
    "\n",
    "file = open(filename, 'r')\n",
    "data_list = [line.strip().split('\\t') for line in file.readlines()]\n",
    "file.close()\n",
    "\n",
    "headers = data_list[0]\n",
    "country_data = {row[0]: {'Life_Exp': float(row[1]), 'Birth_Rate': float(row[2]), 'GNI': float(row[3]), 'Development': row[4]} for row in data_list[1:]}\n",
    "\n",
    "while True:\n",
    "    print(\"\\n1. Get country data\\n2. List developing countries\\n3. Average for developing countries\\n4. Average for developed countries\")\n",
    "    print(\"5. List developed countries\\n6. Average for all countries\\n7. Exit\")\n",
    "\n",
    "    choice = input(\"Enter your choice: \")\n",
    "\n",
    "    if choice == '1':\n",
    "        countries = list(country_data.keys())\n",
    "        for i, country in enumerate(countries, 1):\n",
    "            print(f\"{i}. {country}\")\n",
    "\n",
    "        selected_index = input(\"Select a country by number: \")\n",
    "        if selected_index.isdigit() and 1 <= int(selected_index) <= len(countries):\n",
    "            selected = countries[int(selected_index) - 1]\n",
    "            data = country_data[selected]\n",
    "            print(f\"\\nCountry: {selected}\\nLife Exp: {data['Life_Exp']}\\nBirth Rate: {data['Birth_Rate']}\\nGNI: {data['GNI']}\\nDevelopment: {data['Development']}\")\n",
    "        else:\n",
    "            print(\"Invalid selection.\")\n",
    "\n",
    "    elif choice in {'2', '5'}:\n",
    "        dev_type = 'Developing' if choice == '2' else 'Developed'\n",
    "        print(f\"\\nThe following countries are {dev_type.lower()}:\")\n",
    "        print(\"\\n\".join(k for k, v in country_data.items() if v['Development'] == dev_type) or \"None found.\")\n",
    "\n",
    "    elif choice in {'3', '4'}:\n",
    "        dev_type = 'Developing' if choice == '3' else 'Developed'\n",
    "        subset = [v for v in country_data.values() if v['Development'] == dev_type]\n",
    "        if subset:\n",
    "            print(f\"\\nAverages for {dev_type.lower()} countries:\")\n",
    "            print(f\"GNI: {sum(c['GNI'] for c in subset) / len(subset):.2f}\")\n",
    "            print(f\"Birth Rate: {sum(c['Birth_Rate'] for c in subset) / len(subset):.2f}\")\n",
    "            print(f\"Life Exp: {sum(c['Life_Exp'] for c in subset) / len(subset):.2f}\")\n",
    "        else:\n",
    "            print(f\"No {dev_type.lower()} countries found.\")\n",
    "\n",
    "    elif choice == '6':\n",
    "        print(\"\\nAverages for all countries:\")\n",
    "        for key in ['GNI', 'Birth_Rate', 'Life_Exp']:\n",
    "            print(f\"{key.replace('_', ' ')}: {sum(v[key] for v in country_data.values()) / len(country_data):.2f}\")\n",
    "\n",
    "    elif choice == '7':\n",
    "        print(\"Exiting.\")\n",
    "        break\n",
    "\n",
    "    else:\n",
    "        print(\"Invalid choice.\")\n"
   ]
  },
  {
   "cell_type": "markdown",
   "id": "ad48eafc",
   "metadata": {},
   "source": [
    "**Bonus Extra Credit (10pts towards exam):** Take your code, all of it, and run pylint on it. Take a screen shot and show the overall grade you got on your code (x/10). Now submit the code to chat GPT and ask it to format your code into pep8 standard format. Then run the ChatGPT output through pylint to see what grade ChatGPT would get. Is it better? Show the details or better yet to get the point stop by and show me the result. "
   ]
  }
 ],
 "metadata": {
  "kernelspec": {
   "display_name": "anaconda-ai-2024.04-py310",
   "language": "python",
   "name": "conda-env-anaconda-ai-2024.04-py310-py"
  },
  "language_info": {
   "codemirror_mode": {
    "name": "ipython",
    "version": 3
   },
   "file_extension": ".py",
   "mimetype": "text/x-python",
   "name": "python",
   "nbconvert_exporter": "python",
   "pygments_lexer": "ipython3",
   "version": "3.10.13"
  }
 },
 "nbformat": 4,
 "nbformat_minor": 5
}
