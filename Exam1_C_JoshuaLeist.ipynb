{
 "cells": [
  {
   "cell_type": "markdown",
   "id": "71d7bfc8-d0fc-40a4-8546-a65ea2088dbc",
   "metadata": {},
   "source": [
    "Section 1\n",
    "1. Write a Python program that takes a list of mixed data types (integers, strings, floats) and separates them into three different lists based on their type. The program should handle unexpected errors gracefully."
   ]
  },
  {
   "cell_type": "code",
   "execution_count": 14,
   "id": "e676b28e-3fee-4c5f-95ca-2be618421b1c",
   "metadata": {},
   "outputs": [
    {
     "name": "stdout",
     "output_type": "stream",
     "text": [
      "Integers:  [70, 28, 42, 65]\n",
      "Floats:  [17.1, 18.4, 98.7, 32.1]\n",
      "Strings:  ['Python', 'CIS', '230']\n"
     ]
    }
   ],
   "source": [
    "data = [\"Python\", 70, 28, 42, 17.1, 18.4, 98.7, \"CIS\", \"230\", 65, 32.1]\n",
    "\n",
    "integers = []\n",
    "floats = []\n",
    "strings = []\n",
    "\n",
    "for item in data:\n",
    "    if type(item) == int:\n",
    "        integers.append(item)\n",
    "    elif type(item) == float:\n",
    "        floats.append(item)\n",
    "    elif type(item) == str:\n",
    "        strings.append(item)\n",
    "    else:\n",
    "        print(f\"Error: Unexpected data type {type(item)} - {item}\")\n",
    "\n",
    "print(\"Integers: \", integers)\n",
    "print(\"Floats: \", floats)\n",
    "print(\"Strings: \", strings)"
   ]
  },
  {
   "cell_type": "markdown",
   "id": "e4ca8ffe-8bf4-45c1-9207-53724c0443a2",
   "metadata": {},
   "source": [
    "2. Write a Python script that takes a list of numbers and calculates:\n",
    "- The mean\n",
    "- The median\n",
    "- The standard deviation\n",
    "- The mode (ensure it works even if multiple modes exist)"
   ]
  },
  {
   "cell_type": "code",
   "execution_count": 85,
   "id": "e52b974d-b1f2-4a4a-a21c-7414a9337181",
   "metadata": {},
   "outputs": [
    {
     "name": "stdin",
     "output_type": "stream",
     "text": [
      "Please enter your numbers separated by commas:  12,12,12,12,13,13,14,14,14,14,15,16,16,17,17\n"
     ]
    },
    {
     "name": "stdout",
     "output_type": "stream",
     "text": [
      "Mean: 14.07\n",
      "Median: 14.00\n",
      "Standard Deviation: 1.79\n",
      "Mode: 12.00, 14.00\n"
     ]
    }
   ],
   "source": [
    "user_data = input(\"Please enter your numbers separated by commas: \")\n",
    "\n",
    "data = []\n",
    "num = \"\"\n",
    "\n",
    "for char in user_data:\n",
    "    if char == \",\":\n",
    "        data.append(float(num))\n",
    "        num = \"\"\n",
    "    else:\n",
    "        num += char\n",
    "data.append(float(num))\n",
    "\n",
    "mean = sum(data) / len(data)\n",
    "\n",
    "sorted_data = sorted(data)\n",
    "n = len(data)\n",
    "median = sorted_data[n // 2] if n % 2 else (sorted_data[n // 2 - 1] + sorted_data[n // 2]) / 2\n",
    "\n",
    "standard_deviation = (sum((x - mean) ** 2 for x in data) / (n - 1)) ** 0.5\n",
    "\n",
    "counts = {}\n",
    "for num in data:\n",
    "    if num in counts:\n",
    "        counts[num] += 1\n",
    "    else:\n",
    "        counts[num] = 1\n",
    "\n",
    "modes = [num for num in counts if counts[num] == max_count]\n",
    "\n",
    "print(f\"Mean: {mean:.2f}\")\n",
    "print(f\"Median: {median:.2f}\")\n",
    "print(f\"Standard Deviation: {standard_deviation:.2f}\")\n",
    "print(\"Mode:\", \", \".join(f\"{m:.2f}\" for m in modes))"
   ]
  },
  {
   "cell_type": "markdown",
   "id": "bac62c3f-004a-4a2f-b0aa-92f28cf784a3",
   "metadata": {},
   "source": [
    "3. Modify the following program to ensure it works without errors and follows best practices for user input validation:\n",
    "'\"python\n",
    "num_list = []\n",
    "for i in range(5):\n",
    "    num = int(input(\"Enter a number:\"))\n",
    "    num_list.append(num)\n",
    "print(\"Sorted List:\",num_list.sort())\n",
    "\"'"
   ]
  },
  {
   "cell_type": "code",
   "execution_count": 14,
   "id": "4542a6b4-d903-47a1-9acd-a6d82307755f",
   "metadata": {},
   "outputs": [
    {
     "name": "stdin",
     "output_type": "stream",
     "text": [
      "Please enter a number:  3\n",
      "Please enter a number:  8\n",
      "Please enter a number:  5\n",
      "Please enter a number:  6\n",
      "Please enter a number:  1\n"
     ]
    },
    {
     "name": "stdout",
     "output_type": "stream",
     "text": [
      "Sorted List:  [1, 3, 5, 6, 8]\n"
     ]
    }
   ],
   "source": [
    "num_list = []\n",
    "\n",
    "for i in range(5): #loop continues to stop after 5 valid entries\n",
    "    try:\n",
    "        num_list.append(int(input(\"Please enter an integer: \"))) #combined the num and num_list lines from original code\n",
    "    except ValueError:\n",
    "        print(\"Please enter only integers.\") #included error to ensure best practices for user inputs\n",
    "\n",
    "num_list.sort()\n",
    "print(\"Sorted List: \", num_list) #separated these two lines, as they were combined in the original code and don't need to be"
   ]
  },
  {
   "cell_type": "markdown",
   "id": "18b585d8-4c6f-4624-8515-1848f65dbabb",
   "metadata": {},
   "source": [
    "Section 2\n",
    "4. You have been given the following code, which is supposed to return the maximum difference between any two numbers in a list. Identify at least three potential issues and rewrite the code to optimize it.\n",
    "'\"python\n",
    "lst = [3,10,6,2]\n",
    "print(max(lst)-min(lst))\n",
    "\"'"
   ]
  },
  {
   "cell_type": "code",
   "execution_count": 21,
   "id": "c8bfbfb3-9442-4225-b255-b9fcf2751524",
   "metadata": {},
   "outputs": [
    {
     "name": "stdout",
     "output_type": "stream",
     "text": [
      "8\n"
     ]
    }
   ],
   "source": [
    "numbers = [3,10,6,2] #changed lst to numbers to enhance readability and keep from conflicting with built in list\n",
    "\n",
    "if numbers: #included if statement to check that the list is not empty which prevents an error\n",
    "    print(max(numbers) - min(numbers)) #print statement moved inside the if statement so it only runs if there are numbers in the list\n",
    "else:\n",
    "    print(0) #this prints \"0\" if the list happened to be empty rather than leading to an error"
   ]
  },
  {
   "cell_type": "markdown",
   "id": "e252a280-37b5-4aba-93be-2b7549d4f46b",
   "metadata": {},
   "source": [
    "5. Analyze the complexity of the following code and suggest improvements:\n",
    "'\"python\n",
    "lst = [1, 2, 3, 2, 1, 5, 6, 5, 5, 6]\n",
    "duplicates = []\n",
    "for i in range(len(lst)):\n",
    "    for j in range(i + 1,len(lst)):\n",
    "       if lst[i] == lst[j] and lst[i] not in duplicates:\n",
    "           duplicates.append(lst[i])\n",
    "print(duplicates)\n",
    "\"'"
   ]
  },
  {
   "cell_type": "code",
   "execution_count": 72,
   "id": "3b19c090-1b39-4951-8ac8-6cd8dc88ae7e",
   "metadata": {},
   "outputs": [
    {
     "name": "stdout",
     "output_type": "stream",
     "text": [
      "Duplicates:  [2, 1, 5, 6]\n"
     ]
    }
   ],
   "source": [
    "#The original code has one complexity\n",
    "#It has a time complexity because of the nested for loop and the duplication\n",
    "numbers = [1, 2, 3, 2, 1, 5, 6, 5, 5, 6] #again changing lst to numbers to improve readability while keeping from built in list conflict\n",
    "duplicates = [] #unchanged since it stores the duplicates\n",
    "history = [] #this stores the numbers that have already been read when the code is being run\n",
    "\n",
    "for i, num in enumerate(numbers): #attempted to keep the structure of the original code while improving cleanliness\n",
    "    if num in history and num not in duplicates: #determines if a number is a duplicate by seeing if it is already in the historical list\n",
    "        duplicates.append(num)\n",
    "    elif num not in history: #stores numbers that have not been seen yet\n",
    "        history.append(num)\n",
    "           \n",
    "print(\"Duplicates: \", duplicates) #added \"Duplicates: \" to improve user readability"
   ]
  },
  {
   "cell_type": "markdown",
   "id": "bb8266f1-6f18-48ca-9196-b356b7a8df10",
   "metadata": {},
   "source": [
    "6. Given the following code that reverses words in a sentence while keeping punctuation intact, explain the logic, find the inefficiencies, and optimize it:\n",
    "'\"python\n",
    "import re\n",
    "sentence = \"Hello, world! How are you?\"\n",
    "words = re.findall(r'\\w+',sentence)\n",
    "reversed_words = ''.join(words[::-1])\n",
    "print(re.sub(r'\\w+',lambda_:reversed_words.pop(0),sentence))"
   ]
  },
  {
   "cell_type": "code",
   "execution_count": 82,
   "id": "ce9ece4a-22fe-4a7e-a129-188c7a71912c",
   "metadata": {},
   "outputs": [
    {
     "name": "stdout",
     "output_type": "stream",
     "text": [
      "you, are! How world Hello?\n"
     ]
    }
   ],
   "source": [
    "#Logic of the original code:\n",
    "#It takes the given sentence and uses the findall expression to find the words defined in \"sentence\"\n",
    "#Next it takes all defined words and reverses their order and prints that back out\n",
    "#However, the way the code is originally written, it gives back a syntax error in \"Lambda_:reversed\"\n",
    "\n",
    "import re #adding in spaces throughout to improve readability\n",
    "\n",
    "sentence = \"Hello, world! How are you?\" #fine the way it was\n",
    "\n",
    "words = re.findall(r'\\w+', sentence)\n",
    "\n",
    "reversed_words = words[::-1] #I removed the \"''.join\" in order to keep the original spacing of the sentence without it being in a string\n",
    "\n",
    "reversed_iter = iter(reversed_words)\n",
    "\n",
    "result = re.sub(r'\\w+', lambda _: next(reversed_iter), sentence) #replaced the pop function with iter for better clarity in iterations\n",
    "\n",
    "print(result) #added to print out the reversed sentence"
   ]
  },
  {
   "cell_type": "markdown",
   "id": "aa508cc0-0308-4049-ae82-7ec60690d504",
   "metadata": {},
   "source": [
    "Section 3\n",
    "7. You are reviewing two different implementations for finding the second largest number in a list. Critically evaluate them and determine which is more efficient and why.\n",
    "'\"python\n",
    "lst = [10,20,4,45,99]\n",
    "\n",
    "lst.sort()\n",
    "print(lst[-2] if len(lst) > else None)\n",
    "\n",
    "first,second = float('inf'),float('inf')\n",
    "for num in lst:\n",
    "    if num > first:\n",
    "        second = first\n",
    "        first = num\n",
    "    elif num > second and num != first:\n",
    "        second = num\n",
    "print(second if second != float('inf') else None)"
   ]
  },
  {
   "cell_type": "markdown",
   "id": "169cc67b-8752-475f-be37-1c203401cacb",
   "metadata": {},
   "source": [
    "Of the two implementations, I would personally have to go with the second one. On the surface I like the fact that it is more thorough it its approach and you can follow along with what it is trying to accomplish. I can see that it is clearly defining which values are the first and second highest in value. Along with this, from an efficiency standpoint, it is not taking the time / resources to manually sort through the numbers. The last line and print statement also handles instances of where there is no second number in the list. Overall, I find the second implementation to be cleaner and better structured than the first, despite the fact that there are more lines of code. It would also be easier to be able to expand upon if someone wanted to."
   ]
  },
  {
   "cell_type": "markdown",
   "id": "9b7a8692-6b02-44d6-82b0-f99790f31f95",
   "metadata": {},
   "source": [
    "8. Evaluate the security implications of the following script, which checks user login credentials. What vulnerabilities exist, and how would you improve it?\n",
    "'\"python\n",
    "username = input(\"Enter username:\")\n",
    "password = input(\"Enter password:\")\n",
    "\n",
    "stored_username = \"admin\"\n",
    "stored_password = \"password123\"\n",
    "\n",
    "if username == stored_username and password == stored_password:\n",
    "    print(\"Access Granted\")\n",
    "else:\n",
    "    print(\"Access Denied\")\n",
    "\"'\n",
    "\n",
    "- What security issues exist in this script?\n",
    "- How would you rewrite it to follow security best practice?"
   ]
  },
  {
   "cell_type": "code",
   "execution_count": 27,
   "id": "c863b827-ac10-4a0b-ae54-49e78de226d1",
   "metadata": {},
   "outputs": [
    {
     "name": "stdin",
     "output_type": "stream",
     "text": [
      "Enter username: asdf\n",
      "Enter password: asdf\n",
      "Enter username:  asdf\n",
      "Enter username:  asdf\n"
     ]
    },
    {
     "name": "stdout",
     "output_type": "stream",
     "text": [
      "Access Denied. Login attempts exceeded.\n"
     ]
    }
   ],
   "source": [
    "#The first significant problem with this is the fact that the passwords are hard coded within the script, however I am unsure of how\n",
    "#exactly to solve that issue. This is a security risk because anyone could get access to the login information relatively easily.\n",
    "#Next, the password is just in plaintext and should ideally be encrypted somehow, as well as having an encrypted storage. \n",
    "#There is also a print statement that denies access if the username and password entered are incorrect, but does not explicitly limit \n",
    "#just how many times someone can try to log in before their attempts are exceeded and they are locked out. Overall this would be a good \n",
    "#additional security measure to keep someone from having an unlimited number of login attempts. There would also be other server-side \n",
    "#security measures that would need to be implemented to ensure a secure system, but these would not directly impact what the script is \n",
    "#doing.\n",
    "\n",
    "username = input(\"Enter username:\")\n",
    "password = input(\"Enter password:\")\n",
    "\n",
    "stored_username = \"admin\"\n",
    "stored_password = \"]K?4Cy8q9i9e\" #I do not know how to encrypt these but they do need to be in an ideal script to improve security\n",
    "#I at least changed the password so that it is more robust\n",
    "\n",
    "if username == stored_username and password == stored_password:\n",
    "    print(\"Access Granted\")\n",
    "elif input(\"Enter username: \") == stored_username and input(\"Enter password: \") == stored_password: #second login attempt\n",
    "    print(\"Access Granted\")\n",
    "elif input(\"Enter username: \") == stored_username and input(\"Enter password: \") == stored_password: #third login attempt\n",
    "    print(\"Access Granted\")\n",
    "else:\n",
    "    print(\"Access Denied. Login attempts exceeded.\") #access denied after three consecutive failed login attempts\n"
   ]
  },
  {
   "cell_type": "markdown",
   "id": "094f881f-25bf-4874-aaf3-d4b3a4a6e8c5",
   "metadata": {},
   "source": [
    "9. A company wants to optimize their inventory system. They currently use the following approach for checking if an item is in stock. Evaluate its effectiveness and propose a more scalable alternative:\n",
    "'\"python\n",
    "inventory = {\"apple\":50,\"banana\":100,\"orange\":75}\n",
    "\n",
    "item = input(\"Enter item name:\")\n",
    "print(inventory.get(item,0) > 0)\n",
    "\"'\n",
    "\n",
    "- How would this approach perform with large-scale inventory (millions of products)?\n",
    "- Propose a more efficient way to handle inventory lookup for a large e-commerce company."
   ]
  },
  {
   "cell_type": "code",
   "execution_count": 60,
   "id": "99352c23-f53a-49e3-a6ea-9ee4bfba21cc",
   "metadata": {},
   "outputs": [
    {
     "name": "stdin",
     "output_type": "stream",
     "text": [
      "Enter item name: apple\n"
     ]
    },
    {
     "name": "stdout",
     "output_type": "stream",
     "text": [
      "True\n"
     ]
    }
   ],
   "source": [
    "#The dictionary holding of the inventory would perform well with a larger-scale inventory as it can look up products quickly. It also\n",
    "#offers the ability to scale according to the needs that have to be met.\n",
    "\n",
    "import collections #the import function should help with large-scale inventory numbers and scalability because it will be able to interact\n",
    "#with associated libraries if they get set up. While it is not used here at the small-scale, having it ready to use is important for \n",
    "#what the business may scale to in the future.\n",
    "\n",
    "inventory = {\"apple\":50,\"banana\":100,\"orange\":75} #kept the dictionary since it scales and is more efficient with large inventories\n",
    "\n",
    "item = input(\"Enter item name:\") #no change needed\n",
    "\n",
    "in_stock = inventory.get(item, 0) > 0 #no change here either as this is already checking the dictionary that was in place and\n",
    "#maintains the efficiency and scalability that is already in place\n",
    "\n",
    "print(in_stock) #reads out what was pulled from the dictionary"
   ]
  }
 ],
 "metadata": {
  "kernelspec": {
   "display_name": "anaconda-ai-2024.04-py310",
   "language": "python",
   "name": "conda-env-anaconda-ai-2024.04-py310-py"
  },
  "language_info": {
   "codemirror_mode": {
    "name": "ipython",
    "version": 3
   },
   "file_extension": ".py",
   "mimetype": "text/x-python",
   "name": "python",
   "nbconvert_exporter": "python",
   "pygments_lexer": "ipython3",
   "version": "3.10.13"
  }
 },
 "nbformat": 4,
 "nbformat_minor": 5
}
