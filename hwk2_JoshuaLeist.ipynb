{
 "cells": [
  {
   "cell_type": "markdown",
   "id": "6bf860ad",
   "metadata": {},
   "source": [
    "# Homework 2 Work Flow\n",
    "In this homework you will be practicing the art of work flow through the use of `try`, `except`, `if`,`elif`,`else`. \n",
    "Thus, complete the following problems, emphasizing the work flow necessary to assure that the task is completed and all possible outcomes are accounted for. \n",
    "\n",
    "\n",
    "\n",
    "**Problem 1**: We are a small business and want to create a calculator for a product which we carry. The unique situation associated with this product is that the cost varies depending on the quantity purchased. However, there is a setup cost associated with making this product which is $250. This means that we will not make any money for orders less than or equal to 10 units. \n",
    "\n",
    "The product is a highly specialized item we fabricate in house. The Cost of Good Sold COGS is roughly $25 for making the product, packaging, and so forth. We need to develop a simple `what if` model that will allows to properly price the order for customers. The following table contains the information regarding our current pricing policy. If the order is for 12 units than this falls in the 40% price markup range thus, the customer will be priced at at 45% markup above cost, thus it is for example 12*25*1.45=435. The shipping column contains the percent total it costs to ship the order, for example if the order is 12 then the cost of shipping is an additional 30% on top of the cost, that is the shipping cost is, 435*0.3=130.5. \n",
    "\n",
    "| Range Start | Range End |Percent|Shipping|\n",
    "|-------------|-----------|-------|--------|\n",
    "| 10          | 15        | 45    | 30     |\n",
    "| 15          | 20        | 40    | 30     |\n",
    "| 20          | 25        | 36    | 30     |\n",
    "| 25          | 30        | 35    | 30     |\n",
    "| 30          | 35        | 32    | 30     |\n",
    "| 35          | 40        | 25    | 40     |\n",
    "| 40          | 45        | 23    | 40     |\n",
    "| 45          | 50        | 20    | 40     |\n",
    "| 50          | 55        | 15    | 40     |\n",
    "| 55          | 60        | 12.5  | 20     |\n",
    "|>=60         |           | 10    | 20     |\n",
    "\n",
    "We do not accept order if the order is less than 10, thus if a user enters an order quantity of <10 then an error should be given. The error message should be: \"ERROR: We do not accept orders less than 10 units for this product. Enter a number greater than or equal to 10 and try again\". Bonus 5 pts, make the error text bold and red. The output should consist of the following information: price: `25*order quantity*markup`, shipping cost: Cost of shipping order, subtotal: shipping plus price,sales taxes: La Plata county sales tax is 4.9 %, which is applied to the subtotal. Finally, present the total cost. All numbers presented should rounded to 2 decimals as it is money. \n",
    "\n",
    "INPUT: Order quantity: 12\n",
    "OUTPUT:  \n",
    "Price:      435.00  \n",
    "Shipping:   130.50  \n",
    "Subtotal:   565.50  \n",
    "Sales Taxes:27.70  \n",
    "Total:      593.21  \n",
    "\n",
    "The goal of this assignment is to get you comfortable using the conditionals to create a work flow. The if, elif, else, try and except. \n"
   ]
  },
  {
   "cell_type": "code",
   "execution_count": 9,
   "id": "9bdcd859-00b6-414f-8856-0b58d73f1f74",
   "metadata": {},
   "outputs": [
    {
     "name": "stdin",
     "output_type": "stream",
     "text": [
      "Please enter the order quantity:  6\n"
     ]
    },
    {
     "name": "stdout",
     "output_type": "stream",
     "text": [
      "ERROR: We do not accept orders less than 10 units for this product. Enter a number greater than or equal to 10 and try again.\n"
     ]
    }
   ],
   "source": [
    "setup_cost = 250\n",
    "cost_per_unit = 25\n",
    "sales_tax_rate = 0.049\n",
    "\n",
    "try:\n",
    "    order_quantity = int(input(\"Please enter the order quantity: \"))\n",
    "    if order_quantity < 10:\n",
    "        print(\"ERROR: We do not accept orders less than 10 units for this product. Enter a number greater than or equal to 10 and try again.\")\n",
    "    else:\n",
    "        if 10 <= order_quantity < 15:\n",
    "            markup_price, shipping_percentage = 0.45, 0.30\n",
    "        elif 15 <= order_quantity < 20:\n",
    "            markup_price, shipping_percentage = 0.40, 0.30\n",
    "        elif 20 <= order_quantity < 25:\n",
    "            markup_price, shipping_percentage = 0.36, 0.30\n",
    "        elif 25 <= order_quantity < 30:\n",
    "            markup_price, shipping_percentage = 0.35, 0.30\n",
    "        elif 30 <= order_quantity < 35:\n",
    "            markup_price, shipping_percentage = 0.32, 0.30\n",
    "        elif 35 <= order_quantity < 40:\n",
    "            markup_price, shipping_percentage = 0.25, 0.40\n",
    "        elif 40 <= order_quantity < 45:\n",
    "            markup_price, shipping_percentage = 0.23, 0.40\n",
    "        elif 45 <= order_quantity < 50:\n",
    "            markup_price, shipping_percentage = 0.20, 0.40\n",
    "        elif 50 <= order_quantity < 55:\n",
    "            markup_price, shipping_percentage = 0.15, 0.40\n",
    "        elif 55 <= order_quantity < 60:\n",
    "            markup_price, shipping_percentage = 0.125, 0.20\n",
    "        else:\n",
    "            markup_price, shipping_percentage = 0.10, 0.20\n",
    "\n",
    "        price = cost_per_unit * order_quantity * (1+ markup_price)\n",
    "        shipping_cost = price * shipping_percentage\n",
    "        subtotal = price + shipping_cost\n",
    "        sales_tax = subtotal * sales_tax_rate\n",
    "        total = subtotal + sales_tax\n",
    "\n",
    "        print(f\"Price: {price:.2f}\")\n",
    "        print(f\"Shipping: {shipping_cost:.2f}\")\n",
    "        print(f\"Subtotal: {subtotal:.2f}\")\n",
    "        print(f\"Sales Taxes: {sales_tax:.2f}\")\n",
    "        print(f\"Total: {total:.2f}\")\n",
    "\n",
    "except ValueError:\n",
    "    print(\"ERROR: Please enter a valid integer for the order quantity.\")"
   ]
  }
 ],
 "metadata": {
  "kernelspec": {
   "display_name": "anaconda-2024.02-py310",
   "language": "python",
   "name": "conda-env-anaconda-2024.02-py310-py"
  },
  "language_info": {
   "codemirror_mode": {
    "name": "ipython",
    "version": 3
   },
   "file_extension": ".py",
   "mimetype": "text/x-python",
   "name": "python",
   "nbconvert_exporter": "python",
   "pygments_lexer": "ipython3",
   "version": "3.10.14"
  }
 },
 "nbformat": 4,
 "nbformat_minor": 5
}
