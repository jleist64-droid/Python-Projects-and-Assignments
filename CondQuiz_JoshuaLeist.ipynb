{
 "cells": [
  {
   "cell_type": "markdown",
   "id": "e3587f42-0577-4aaa-8edf-38cb78f6c014",
   "metadata": {},
   "source": [
    "1. Odd or Even Checker\n",
    "Write a program that takes an integer as input and checks whether it is odd or even. Print the result."
   ]
  },
  {
   "cell_type": "code",
   "execution_count": null,
   "id": "5efcb017-28ac-4f5a-bba3-f6444a69358d",
   "metadata": {},
   "outputs": [],
   "source": [
    "num = int(input(\"Please enter an integer: \"))\n",
    "\n",
    "if num % 2 == 0:\n",
    "    print(num, \"is even.\")\n",
    "else:\n",
    "    print(num, \"is odd.\")"
   ]
  },
  {
   "cell_type": "markdown",
   "id": "67ac5e49-b758-4697-81eb-ae99808d1239",
   "metadata": {},
   "source": [
    "2.\n",
    "Grading System\n",
    "Create a program that accepts a test score (0-100) and assigns a grade:\n",
    "\n",
    "A: 90-100\n",
    "B: 80-89\n",
    "C: 70-79\n",
    "D: 60-69\n",
    "F: Below 60"
   ]
  },
  {
   "cell_type": "code",
   "execution_count": 47,
   "id": "0e8b9027-e7d6-4a8b-b4df-99fd47b62dc8",
   "metadata": {},
   "outputs": [
    {
     "name": "stdin",
     "output_type": "stream",
     "text": [
      "Please enter a score (0-100):  67\n"
     ]
    },
    {
     "name": "stdout",
     "output_type": "stream",
     "text": [
      "Your grade is: D\n"
     ]
    }
   ],
   "source": [
    "score = float(input(\"Please enter a score (0-100): \"))\n",
    "\n",
    "if 90 <= score <= 100:\n",
    "    grade = \"A\"\n",
    "elif 80 <= score < 90:\n",
    "    grade = \"B\"\n",
    "elif 70 <= score < 80:\n",
    "    grade = \"C\"\n",
    "elif 60 <= score < 70:\n",
    "    grade = \"D\"\n",
    "else:\n",
    "    grade = \"F\"\n",
    "\n",
    "print(\"Your grade is:\", grade)"
   ]
  },
  {
   "cell_type": "markdown",
   "id": "fd11a946-7bc5-495f-9b40-5b6118af0f84",
   "metadata": {},
   "source": [
    "3. Leap Year Detector\n",
    "Write a function to determine if a given year is a leap year. A leap year is divisible by 4 but not divisible by 100 unless it is also divisible by 400."
   ]
  },
  {
   "cell_type": "code",
   "execution_count": 27,
   "id": "2395acd1-e7b7-43ec-9a6a-618819a8f8b5",
   "metadata": {},
   "outputs": [
    {
     "name": "stdin",
     "output_type": "stream",
     "text": [
      "Please enter a year:  1972\n"
     ]
    },
    {
     "name": "stdout",
     "output_type": "stream",
     "text": [
      "1972 is a leap year.\n"
     ]
    }
   ],
   "source": [
    "year = int(input(\"Please enter a year: \"))\n",
    "\n",
    "if (year % 4 == 0 and year % 100 != 0) or (year % 400 == 0):\n",
    "    print(year, \"is a leap year.\")\n",
    "    \n",
    "else:\n",
    "    print(year, \"is not a leap year.\")"
   ]
  },
  {
   "cell_type": "markdown",
   "id": "fb0c17dd-fbeb-47a5-af6e-01b122579bcf",
   "metadata": {},
   "source": [
    "4. Number Comparison\n",
    "Create a program that accepts two numbers as input and prints:\n",
    "\n",
    "\"First number is larger.\"\n",
    "\"Second number is larger.\"\n",
    "\"Both numbers are equal.\""
   ]
  },
  {
   "cell_type": "code",
   "execution_count": 29,
   "id": "f212face-ba54-450f-bd20-1d2af82ea36f",
   "metadata": {},
   "outputs": [
    {
     "name": "stdin",
     "output_type": "stream",
     "text": [
      "Please enter your first number:  12\n",
      "Please enter your second number:  13\n"
     ]
    },
    {
     "name": "stdout",
     "output_type": "stream",
     "text": [
      "The second number is larger.\n"
     ]
    }
   ],
   "source": [
    "num1 = float(input(\"Please enter your first number: \"))\n",
    "num2 = float(input(\"Please enter your second number: \"))\n",
    "\n",
    "if num1 > num2:\n",
    "    print(\"The first number is larger.\")\n",
    "    \n",
    "elif num1 < num2:\n",
    "    print(\"The second number is larger.\")\n",
    "else:\n",
    "    print(\"Both of the numbers are equal.\")"
   ]
  },
  {
   "cell_type": "markdown",
   "id": "9af1afc4-1c85-41bd-94ed-0dd2b23ee79b",
   "metadata": {},
   "source": [
    "5. Simple Calculator\n",
    "Write a program that asks the user for two numbers and an operator (+, -, *, /). Perform the corresponding operation and display the result. Include a check for division by zero."
   ]
  },
  {
   "cell_type": "code",
   "execution_count": 14,
   "id": "785cafc0-7eb4-4a8e-9ffc-014ad53b0799",
   "metadata": {},
   "outputs": [
    {
     "name": "stdin",
     "output_type": "stream",
     "text": [
      "Please enter the first number:  5\n",
      "Please enter the second number:  5\n",
      "Please enter one of the following operators (+, -, *, /):  /\n"
     ]
    },
    {
     "name": "stdout",
     "output_type": "stream",
     "text": [
      "End Result: 1.0\n"
     ]
    }
   ],
   "source": [
    "num1 = float(input(\"Please enter the first number: \"))\n",
    "num2 = float(input(\"Please enter the second number: \"))\n",
    "operator = input(\"Please enter one of the following operators (+, -, *, /): \")\n",
    "\n",
    "if operator == \"+\":\n",
    "    result = num1 + num2\n",
    "elif operator == \"-\":\n",
    "    result = num1 - num2\n",
    "elif operator == \"*\":\n",
    "    result = num1 * num2\n",
    "elif operator == \"/\":\n",
    "    if num2 == 0:\n",
    "        result = \"You cannot divide by zero.\"\n",
    "    else:\n",
    "        result = num1 / num2\n",
    "\n",
    "print(\"End Result:\", result)"
   ]
  }
 ],
 "metadata": {
  "kernelspec": {
   "display_name": "anaconda-ai-2024.04-py310",
   "language": "python",
   "name": "conda-env-anaconda-ai-2024.04-py310-py"
  },
  "language_info": {
   "codemirror_mode": {
    "name": "ipython",
    "version": 3
   },
   "file_extension": ".py",
   "mimetype": "text/x-python",
   "name": "python",
   "nbconvert_exporter": "python",
   "pygments_lexer": "ipython3",
   "version": "3.10.13"
  }
 },
 "nbformat": 4,
 "nbformat_minor": 5
}
